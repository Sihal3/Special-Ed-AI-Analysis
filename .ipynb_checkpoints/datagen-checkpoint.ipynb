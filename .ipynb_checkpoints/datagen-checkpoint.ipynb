{
 "cells": [
  {
   "cell_type": "code",
   "execution_count": 16,
   "metadata": {},
   "outputs": [],
   "source": [
    "studentIDs = []\n",
    "genders = []\n",
    "ages = []\n",
    "creds = []\n",
    "csizes = []\n",
    "gpas = []\n"
   ]
  },
  {
   "cell_type": "code",
   "execution_count": null,
   "metadata": {},
   "outputs": [],
   "source": [
    "def datagen(num_values):\n",
    "    dframe = pd.DataFrame()\n",
    "    dframe[\"studentIDs\"] = studentidgen(num_values)\n",
    "    dframe['gender'] = gendergen(num_values)\n",
    "    dframe['age'] = agegen(num_values)\n",
    "    dframe['teacher_cred'] = credgen(num_values)\n",
    "    dframe['class_size'] = csizegen(num_values)\n",
    "    dframe['gpadifference'] = gpagen(num_values)\n",
    "    return dframe"
   ]
  },
  {
   "cell_type": "code",
   "execution_count": 17,
   "metadata": {},
   "outputs": [],
   "source": [
    "\n",
    "def studentidgen(num):\n",
    "    studentIDs.clear()\n",
    "    from random import randint\n",
    "    for i in range(num):\n",
    "        id = randint(10000, 10000+num*2)\n",
    "        while id in studentIDs:\n",
    "            id = randint(10000,10000+num*2)\n",
    "        studentIDs.append(id)\n",
    "    return studentIDs"
   ]
  },
  {
   "cell_type": "code",
   "execution_count": 18,
   "metadata": {},
   "outputs": [],
   "source": [
    "def gendergen(num):\n",
    "    genders.clear()\n",
    "    from random import random\n",
    "\n",
    "    for i in range(num):\n",
    "        gender = (int)(random()*2)\n",
    "        if gender == 1:\n",
    "            gender = 'Male';\n",
    "        else:\n",
    "            gender = 'Female'\n",
    "        genders.append(gender)\n",
    "    return genders"
   ]
  },
  {
   "cell_type": "code",
   "execution_count": 19,
   "metadata": {},
   "outputs": [],
   "source": [
    "def agegen(num):\n",
    "    from random import randint\n",
    "    ages.clear()\n",
    "    for i in range(num):\n",
    "        age = randint(6, 18)\n",
    "        ages.append(age)\n",
    "    return ages"
   ]
  },
  {
   "cell_type": "code",
   "execution_count": 20,
   "metadata": {},
   "outputs": [],
   "source": [
    "def credgen(num):\n",
    "    from random import randint\n",
    "    creds.clear()\n",
    "    for i in range(num):\n",
    "        cred = randint(0, 3)\n",
    "        if cred == 0:\n",
    "            cred = 'Associate\\'s'\n",
    "        elif cred == 1:\n",
    "            cred = 'Bachelor\\'s'\n",
    "        elif cred == 2:\n",
    "            cred = 'Master\\'s'\n",
    "        else:\n",
    "            cred = 'PhD'\n",
    "        creds.append(cred)\n",
    "    return creds"
   ]
  },
  {
   "cell_type": "code",
   "execution_count": 21,
   "metadata": {},
   "outputs": [],
   "source": [
    "def csizegen(num):\n",
    "    import numpy as np\n",
    "    csizes.clear()\n",
    "    for i in np.random.normal(30, 5, num):\n",
    "        csizes.append(int(i))\n",
    "    return csizes"
   ]
  },
  {
   "cell_type": "code",
   "execution_count": 25,
   "metadata": {},
   "outputs": [],
   "source": [
    "def gpagen(num):\n",
    "#     negative impact for bigger classroom sizes \n",
    "    gpas.clear()\n",
    "    from random import random\n",
    "    for i in range(num):\n",
    "        class_size_contrib = -0.5*((csizes[i]-20)/10)\n",
    "        if creds[i] == \"Associate's\":\n",
    "            cred_contrib = -0.2\n",
    "        elif creds[i] == \"Bachelor's\":\n",
    "            cred_contrib = 0.3\n",
    "        elif creds[i] == \"Master's\":\n",
    "            cred_contrib = 0.9\n",
    "        else:\n",
    "            cred_contrib = 1.5\n",
    "        if genders[i] == \"Male\" and ages[i] < 13:\n",
    "            gendage_contrib = -0.4\n",
    "        elif genders[i] == \"Male\" and ages[i] >= 13:\n",
    "            gendage_contrib = 0.3\n",
    "        elif genders[i] == \"Female\" and ages[i] >= 13:\n",
    "            gendage_contrib = -0.2\n",
    "        else:\n",
    "            gendage_contrib = 0.6\n",
    "        gpa = class_size_contrib + gendage_contrib + cred_contrib + random()-0.5\n",
    "        if gpa > 4:\n",
    "            gpa = 4\n",
    "        elif gpa < -4:\n",
    "            gpa = -4\n",
    "        gpas.append(gpa)\n",
    "    return gpas"
   ]
  },
  {
   "cell_type": "code",
   "execution_count": null,
   "metadata": {},
   "outputs": [],
   "source": []
  }
 ],
 "metadata": {
  "kernelspec": {
   "display_name": "Python 3",
   "language": "python",
   "name": "python3"
  },
  "language_info": {
   "codemirror_mode": {
    "name": "ipython",
    "version": 3
   },
   "file_extension": ".py",
   "mimetype": "text/x-python",
   "name": "python",
   "nbconvert_exporter": "python",
   "pygments_lexer": "ipython3",
   "version": "3.7.4"
  }
 },
 "nbformat": 4,
 "nbformat_minor": 2
}
