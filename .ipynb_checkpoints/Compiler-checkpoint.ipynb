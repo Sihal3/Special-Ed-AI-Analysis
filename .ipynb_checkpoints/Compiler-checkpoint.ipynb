{
 "cells": [
  {
   "cell_type": "code",
   "execution_count": 2,
   "metadata": {
    "id": "IvG_IQay-QX5"
   },
   "outputs": [],
   "source": [
    "import numpy as np\n",
    "import matplotlib.pyplot as plt\n",
    "import pandas as pd\n",
    "import tensorflow as tf\n",
    "from datagen import *\n",
    "config = tf.compat.v1.ConfigProto()\n",
    "config.gpu_options.allow_growth=True\n",
    "sess = tf.compat.v1.Session(config=config)\n",
    "\n",
    "NUM_ROWS = 20000"
   ]
  },
  {
   "cell_type": "code",
   "execution_count": 22,
   "metadata": {
    "id": "eom___DL-QYD"
   },
   "outputs": [],
   "source": [
    "dframe = pd.DataFrame()\n",
    "dframe = datagen(NUM_ROWS)"
   ]
  },
  {
   "cell_type": "code",
   "execution_count": 23,
   "metadata": {},
   "outputs": [
    {
     "data": {
      "text/html": [
       "<div>\n",
       "<style scoped>\n",
       "    .dataframe tbody tr th:only-of-type {\n",
       "        vertical-align: middle;\n",
       "    }\n",
       "\n",
       "    .dataframe tbody tr th {\n",
       "        vertical-align: top;\n",
       "    }\n",
       "\n",
       "    .dataframe thead th {\n",
       "        text-align: right;\n",
       "    }\n",
       "</style>\n",
       "<table border=\"1\" class=\"dataframe\">\n",
       "  <thead>\n",
       "    <tr style=\"text-align: right;\">\n",
       "      <th></th>\n",
       "      <th>studentIDs</th>\n",
       "      <th>gender</th>\n",
       "      <th>age</th>\n",
       "      <th>teacher_cred</th>\n",
       "      <th>class_size</th>\n",
       "      <th>disability</th>\n",
       "      <th>accomadation</th>\n",
       "      <th>gpadifference</th>\n",
       "    </tr>\n",
       "  </thead>\n",
       "  <tbody>\n",
       "    <tr>\n",
       "      <th>0</th>\n",
       "      <td>30777</td>\n",
       "      <td>Female</td>\n",
       "      <td>8</td>\n",
       "      <td>Associate's</td>\n",
       "      <td>28</td>\n",
       "      <td>Visual Disability</td>\n",
       "      <td>Use of Calculator on Tests</td>\n",
       "      <td>-1.707357</td>\n",
       "    </tr>\n",
       "    <tr>\n",
       "      <th>1</th>\n",
       "      <td>29416</td>\n",
       "      <td>Female</td>\n",
       "      <td>16</td>\n",
       "      <td>Associate's</td>\n",
       "      <td>34</td>\n",
       "      <td>Autism</td>\n",
       "      <td>Text to Speech Devices</td>\n",
       "      <td>0.223830</td>\n",
       "    </tr>\n",
       "    <tr>\n",
       "      <th>2</th>\n",
       "      <td>43242</td>\n",
       "      <td>Male</td>\n",
       "      <td>11</td>\n",
       "      <td>Master's</td>\n",
       "      <td>30</td>\n",
       "      <td>Low Emotional Intelligence</td>\n",
       "      <td>Special Education Classroom</td>\n",
       "      <td>-1.573465</td>\n",
       "    </tr>\n",
       "    <tr>\n",
       "      <th>3</th>\n",
       "      <td>24946</td>\n",
       "      <td>Male</td>\n",
       "      <td>11</td>\n",
       "      <td>Associate's</td>\n",
       "      <td>28</td>\n",
       "      <td>Autism</td>\n",
       "      <td>Breakout Corner</td>\n",
       "      <td>0.874270</td>\n",
       "    </tr>\n",
       "    <tr>\n",
       "      <th>4</th>\n",
       "      <td>16160</td>\n",
       "      <td>Male</td>\n",
       "      <td>9</td>\n",
       "      <td>Associate's</td>\n",
       "      <td>32</td>\n",
       "      <td>ADHD</td>\n",
       "      <td>Tutoring Sessions</td>\n",
       "      <td>-0.692943</td>\n",
       "    </tr>\n",
       "    <tr>\n",
       "      <th>...</th>\n",
       "      <td>...</td>\n",
       "      <td>...</td>\n",
       "      <td>...</td>\n",
       "      <td>...</td>\n",
       "      <td>...</td>\n",
       "      <td>...</td>\n",
       "      <td>...</td>\n",
       "      <td>...</td>\n",
       "    </tr>\n",
       "    <tr>\n",
       "      <th>19995</th>\n",
       "      <td>21583</td>\n",
       "      <td>Female</td>\n",
       "      <td>12</td>\n",
       "      <td>Bachelor's</td>\n",
       "      <td>29</td>\n",
       "      <td>Auditory Disability</td>\n",
       "      <td>Materials in Braille</td>\n",
       "      <td>2.234725</td>\n",
       "    </tr>\n",
       "    <tr>\n",
       "      <th>19996</th>\n",
       "      <td>35051</td>\n",
       "      <td>Male</td>\n",
       "      <td>17</td>\n",
       "      <td>Master's</td>\n",
       "      <td>28</td>\n",
       "      <td>Low Emotional Intelligence</td>\n",
       "      <td>Isolated Workstation</td>\n",
       "      <td>1.624481</td>\n",
       "    </tr>\n",
       "    <tr>\n",
       "      <th>19997</th>\n",
       "      <td>46880</td>\n",
       "      <td>Female</td>\n",
       "      <td>16</td>\n",
       "      <td>PhD</td>\n",
       "      <td>30</td>\n",
       "      <td>Visual Disability</td>\n",
       "      <td>Use of Calculator on Tests</td>\n",
       "      <td>-1.047757</td>\n",
       "    </tr>\n",
       "    <tr>\n",
       "      <th>19998</th>\n",
       "      <td>49016</td>\n",
       "      <td>Female</td>\n",
       "      <td>14</td>\n",
       "      <td>Master's</td>\n",
       "      <td>23</td>\n",
       "      <td>Down Syndrome</td>\n",
       "      <td>Breakout Corner</td>\n",
       "      <td>-0.235709</td>\n",
       "    </tr>\n",
       "    <tr>\n",
       "      <th>19999</th>\n",
       "      <td>43695</td>\n",
       "      <td>Male</td>\n",
       "      <td>16</td>\n",
       "      <td>Master's</td>\n",
       "      <td>33</td>\n",
       "      <td>Reading Disability</td>\n",
       "      <td>Text to Speech Devices</td>\n",
       "      <td>-0.852670</td>\n",
       "    </tr>\n",
       "  </tbody>\n",
       "</table>\n",
       "<p>20000 rows × 8 columns</p>\n",
       "</div>"
      ],
      "text/plain": [
       "       studentIDs  gender  age teacher_cred  class_size  \\\n",
       "0           30777  Female    8  Associate's          28   \n",
       "1           29416  Female   16  Associate's          34   \n",
       "2           43242    Male   11     Master's          30   \n",
       "3           24946    Male   11  Associate's          28   \n",
       "4           16160    Male    9  Associate's          32   \n",
       "...           ...     ...  ...          ...         ...   \n",
       "19995       21583  Female   12   Bachelor's          29   \n",
       "19996       35051    Male   17     Master's          28   \n",
       "19997       46880  Female   16          PhD          30   \n",
       "19998       49016  Female   14     Master's          23   \n",
       "19999       43695    Male   16     Master's          33   \n",
       "\n",
       "                       disability                 accomadation  gpadifference  \n",
       "0               Visual Disability   Use of Calculator on Tests      -1.707357  \n",
       "1                          Autism       Text to Speech Devices       0.223830  \n",
       "2      Low Emotional Intelligence  Special Education Classroom      -1.573465  \n",
       "3                          Autism              Breakout Corner       0.874270  \n",
       "4                            ADHD            Tutoring Sessions      -0.692943  \n",
       "...                           ...                          ...            ...  \n",
       "19995         Auditory Disability         Materials in Braille       2.234725  \n",
       "19996  Low Emotional Intelligence         Isolated Workstation       1.624481  \n",
       "19997           Visual Disability   Use of Calculator on Tests      -1.047757  \n",
       "19998               Down Syndrome              Breakout Corner      -0.235709  \n",
       "19999          Reading Disability       Text to Speech Devices      -0.852670  \n",
       "\n",
       "[20000 rows x 8 columns]"
      ]
     },
     "execution_count": 23,
     "metadata": {},
     "output_type": "execute_result"
    }
   ],
   "source": [
    "dframe"
   ]
  },
  {
   "cell_type": "code",
   "execution_count": 24,
   "metadata": {
    "id": "vxRnqFa3-QYK"
   },
   "outputs": [],
   "source": [
    "x = dframe.iloc[:, 1:-1].values\n",
    "y = dframe.iloc[:, -1].values"
   ]
  },
  {
   "cell_type": "code",
   "execution_count": 25,
   "metadata": {
    "colab": {
     "base_uri": "https://localhost:8080/"
    },
    "executionInfo": {
     "elapsed": 5047,
     "status": "ok",
     "timestamp": 1612726887172,
     "user": {
      "displayName": "Nihal Gulati",
      "photoUrl": "https://lh3.googleusercontent.com/a-/AOh14GgXDtWgZ8W0h8IRVQ5-p-nFZu-Z6P-NZa2s6Z9F2w=s64",
      "userId": "09492739079644876153"
     },
     "user_tz": 480
    },
    "id": "ucu97JzR-QYK",
    "outputId": "3867589b-eaeb-42cc-aa8d-5ca99621de65"
   },
   "outputs": [
    {
     "name": "stdout",
     "output_type": "stream",
     "text": [
      "[[0 8 \"Associate's\" 28 'Visual Disability' 'Use of Calculator on Tests']\n",
      " [0 16 \"Associate's\" 34 'Autism' 'Text to Speech Devices']\n",
      " [1 11 \"Master's\" 30 'Low Emotional Intelligence'\n",
      "  'Special Education Classroom']\n",
      " ...\n",
      " [0 16 'PhD' 30 'Visual Disability' 'Use of Calculator on Tests']\n",
      " [0 14 \"Master's\" 23 'Down Syndrome' 'Breakout Corner']\n",
      " [1 16 \"Master's\" 33 'Reading Disability' 'Text to Speech Devices']]\n"
     ]
    }
   ],
   "source": [
    "from sklearn.preprocessing import LabelEncoder\n",
    "le = LabelEncoder()\n",
    "x[:, 0] = le.fit_transform(x[:,0])\n",
    "print(x)"
   ]
  },
  {
   "cell_type": "code",
   "execution_count": null,
   "metadata": {
    "scrolled": true
   },
   "outputs": [],
   "source": [
    "from sklearn.preprocessing import OneHotEncoder\n",
    "from sklearn.compose import ColumnTransformer\n",
    "ct = ColumnTransformer(transformers=[('encoder', OneHotEncoder(), [2])], remainder='passthrough')\n",
    "x = np.array(ct.fit_transform(x))\n",
    "ct2 = ColumnTransformer(transformers=[('encoder', OneHotEncoder(), [7])], remainder='passthrough')\n",
    "x = np.array(ct2.fit_transform(x))\n",
    "ct3 = ColumnTransformer(transformers=[('encoder', OneHotEncoder(), [18])], remainder='passthrough')\n",
    "x = np.array(ct3.fit_transform(x))"
   ]
  },
  {
   "cell_type": "code",
   "execution_count": 27,
   "metadata": {
    "id": "Sh18PQKl-QYL"
   },
   "outputs": [],
   "source": [
    "from sklearn.preprocessing import MinMaxScaler\n",
    "scalarX, scalarY = MinMaxScaler(), MinMaxScaler()\n",
    "scalarX.fit(x)\n",
    "scalarY.fit(y.reshape(NUM_ROWS,1))\n",
    "x = scalarX.transform(x)\n",
    "y = scalarY.transform(y.reshape(NUM_ROWS,1))"
   ]
  },
  {
   "cell_type": "code",
   "execution_count": 29,
   "metadata": {
    "id": "daAGOme9-QYM"
   },
   "outputs": [],
   "source": [
    "# Coulums 0-3 are highest degree\n",
    "# colums 4 is gender\n",
    "# colum 5 is normalized age\n",
    "# colum 6 is normalized class sized"
   ]
  },
  {
   "cell_type": "code",
   "execution_count": 30,
   "metadata": {
    "id": "YsBdYti0-QYN"
   },
   "outputs": [],
   "source": [
    "from sklearn.model_selection import train_test_split\n",
    "x_train, x_test, y_train, y_test = train_test_split(x, y, test_size = 0.2, random_state=7687)"
   ]
  },
  {
   "cell_type": "code",
   "execution_count": 31,
   "metadata": {
    "id": "jJa00Msw-QYN"
   },
   "outputs": [],
   "source": [
    "# container for adding layers to nuerual net\n",
    "TARS = tf.keras.models.Sequential()"
   ]
  },
  {
   "cell_type": "code",
   "execution_count": 32,
   "metadata": {
    "id": "MUtTvito-QYN"
   },
   "outputs": [],
   "source": [
    "TARS.add(tf.keras.layers.Dense(input_dim = 29 ,units = 50, activation='relu'))\n",
    "TARS.add(tf.keras.layers.Dense(units=30, activation='relu'))\n",
    "TARS.add(tf.keras.layers.Dense(units=50, activation='relu'))\n",
    "TARS.add(tf.keras.layers.Dense(units=1, activation='linear'))"
   ]
  },
  {
   "cell_type": "code",
   "execution_count": 33,
   "metadata": {
    "id": "Ns8eRhA3-QYN"
   },
   "outputs": [],
   "source": [
    "TARS.compile(optimizer=\"adam\", loss=\"mean_squared_error\", metrics=['mse', 'accuracy'])"
   ]
  },
  {
   "cell_type": "code",
   "execution_count": 34,
   "metadata": {
    "colab": {
     "base_uri": "https://localhost:8080/"
    },
    "executionInfo": {
     "elapsed": 105112,
     "status": "ok",
     "timestamp": 1612726987399,
     "user": {
      "displayName": "Nihal Gulati",
      "photoUrl": "https://lh3.googleusercontent.com/a-/AOh14GgXDtWgZ8W0h8IRVQ5-p-nFZu-Z6P-NZa2s6Z9F2w=s64",
      "userId": "09492739079644876153"
     },
     "user_tz": 480
    },
    "id": "jLoyix8j-QYO",
    "outputId": "de4908f9-f85c-480b-80aa-fb3ad72ad19d",
    "scrolled": true
   },
   "outputs": [
    {
     "name": "stdout",
     "output_type": "stream",
     "text": [
      "500/500 [==============================] - 1s 2ms/step - loss: 0.0012 - mse: 0.0012 - accuracy: 0.0045\n",
      "Epoch 129/200\n",
      "500/500 [==============================] - 1s 2ms/step - loss: 0.0012 - mse: 0.0012 - accuracy: 0.0064\n",
      "Epoch 130/200\n",
      "500/500 [==============================] - 1s 2ms/step - loss: 0.0012 - mse: 0.0012 - accuracy: 0.0059\n",
      "Epoch 131/200\n",
      "500/500 [==============================] - 1s 2ms/step - loss: 0.0012 - mse: 0.0012 - accuracy: 0.0062\n",
      "Epoch 132/200\n",
      "500/500 [==============================] - 1s 2ms/step - loss: 0.0012 - mse: 0.0012 - accuracy: 0.0057\n",
      "Epoch 133/200\n",
      "500/500 [==============================] - 1s 2ms/step - loss: 0.0012 - mse: 0.0012 - accuracy: 0.0056\n",
      "Epoch 134/200\n",
      "500/500 [==============================] - 1s 2ms/step - loss: 0.0012 - mse: 0.0012 - accuracy: 0.0055\n",
      "Epoch 135/200\n",
      "500/500 [==============================] - 1s 2ms/step - loss: 0.0012 - mse: 0.0012 - accuracy: 0.0060\n",
      "Epoch 136/200\n",
      "500/500 [==============================] - 1s 2ms/step - loss: 0.0012 - mse: 0.0012 - accuracy: 0.0064\n",
      "Epoch 137/200\n",
      "500/500 [==============================] - 1s 2ms/step - loss: 0.0012 - mse: 0.0012 - accuracy: 0.0058\n",
      "Epoch 138/200\n",
      "500/500 [==============================] - 1s 2ms/step - loss: 0.0012 - mse: 0.0012 - accuracy: 0.0061\n",
      "Epoch 139/200\n",
      "500/500 [==============================] - 1s 2ms/step - loss: 0.0012 - mse: 0.0012 - accuracy: 0.0064\n",
      "Epoch 140/200\n",
      "500/500 [==============================] - 1s 2ms/step - loss: 0.0012 - mse: 0.0012 - accuracy: 0.0071\n",
      "Epoch 141/200\n",
      "500/500 [==============================] - 1s 2ms/step - loss: 0.0012 - mse: 0.0012 - accuracy: 0.0061\n",
      "Epoch 142/200\n",
      "500/500 [==============================] - 1s 2ms/step - loss: 0.0012 - mse: 0.0012 - accuracy: 0.0069\n",
      "Epoch 143/200\n",
      "500/500 [==============================] - 1s 2ms/step - loss: 0.0012 - mse: 0.0012 - accuracy: 0.0063\n",
      "Epoch 144/200\n",
      "500/500 [==============================] - 1s 2ms/step - loss: 0.0012 - mse: 0.0012 - accuracy: 0.0054\n",
      "Epoch 145/200\n",
      "500/500 [==============================] - 1s 2ms/step - loss: 0.0012 - mse: 0.0012 - accuracy: 0.0064\n",
      "Epoch 146/200\n",
      "500/500 [==============================] - 1s 2ms/step - loss: 0.0012 - mse: 0.0012 - accuracy: 0.0053\n",
      "Epoch 147/200\n",
      "500/500 [==============================] - 1s 2ms/step - loss: 0.0012 - mse: 0.0012 - accuracy: 0.0068\n",
      "Epoch 148/200\n",
      "500/500 [==============================] - 1s 2ms/step - loss: 0.0012 - mse: 0.0012 - accuracy: 0.0064\n",
      "Epoch 149/200\n",
      "500/500 [==============================] - 1s 2ms/step - loss: 0.0012 - mse: 0.0012 - accuracy: 0.0070\n",
      "Epoch 150/200\n",
      "500/500 [==============================] - 1s 2ms/step - loss: 0.0012 - mse: 0.0012 - accuracy: 0.0053\n",
      "Epoch 151/200\n",
      "500/500 [==============================] - 1s 2ms/step - loss: 0.0012 - mse: 0.0012 - accuracy: 0.0059\n",
      "Epoch 152/200\n",
      "500/500 [==============================] - 1s 2ms/step - loss: 0.0012 - mse: 0.0012 - accuracy: 0.0069\n",
      "Epoch 153/200\n",
      "500/500 [==============================] - 1s 2ms/step - loss: 0.0012 - mse: 0.0012 - accuracy: 0.0065\n",
      "Epoch 154/200\n",
      "500/500 [==============================] - 1s 2ms/step - loss: 0.0012 - mse: 0.0012 - accuracy: 0.0074\n",
      "Epoch 155/200\n",
      "500/500 [==============================] - 1s 2ms/step - loss: 0.0012 - mse: 0.0012 - accuracy: 0.0057\n",
      "Epoch 156/200\n",
      "500/500 [==============================] - 1s 2ms/step - loss: 0.0012 - mse: 0.0012 - accuracy: 0.0063\n",
      "Epoch 157/200\n",
      "500/500 [==============================] - 1s 2ms/step - loss: 0.0012 - mse: 0.0012 - accuracy: 0.0056\n",
      "Epoch 158/200\n",
      "500/500 [==============================] - 1s 2ms/step - loss: 0.0012 - mse: 0.0012 - accuracy: 0.0056\n",
      "Epoch 159/200\n",
      "500/500 [==============================] - 1s 2ms/step - loss: 0.0012 - mse: 0.0012 - accuracy: 0.0065\n",
      "Epoch 160/200\n",
      "500/500 [==============================] - 1s 2ms/step - loss: 0.0012 - mse: 0.0012 - accuracy: 0.0059\n",
      "Epoch 161/200\n",
      "500/500 [==============================] - 1s 2ms/step - loss: 0.0012 - mse: 0.0012 - accuracy: 0.0058\n",
      "Epoch 162/200\n",
      "500/500 [==============================] - 1s 2ms/step - loss: 0.0012 - mse: 0.0012 - accuracy: 0.0059\n",
      "Epoch 163/200\n",
      "500/500 [==============================] - 1s 2ms/step - loss: 0.0012 - mse: 0.0012 - accuracy: 0.0064\n",
      "Epoch 164/200\n",
      "500/500 [==============================] - 1s 2ms/step - loss: 0.0012 - mse: 0.0012 - accuracy: 0.0061\n",
      "Epoch 165/200\n",
      "500/500 [==============================] - 1s 2ms/step - loss: 0.0012 - mse: 0.0012 - accuracy: 0.0067\n",
      "Epoch 166/200\n",
      "500/500 [==============================] - 1s 2ms/step - loss: 0.0012 - mse: 0.0012 - accuracy: 0.0064\n",
      "Epoch 167/200\n",
      "500/500 [==============================] - 1s 2ms/step - loss: 0.0012 - mse: 0.0012 - accuracy: 0.0060\n",
      "Epoch 168/200\n",
      "500/500 [==============================] - 1s 2ms/step - loss: 0.0012 - mse: 0.0012 - accuracy: 0.0064\n",
      "Epoch 169/200\n",
      "500/500 [==============================] - 1s 2ms/step - loss: 0.0012 - mse: 0.0012 - accuracy: 0.0059\n",
      "Epoch 170/200\n",
      "500/500 [==============================] - 1s 2ms/step - loss: 0.0011 - mse: 0.0011 - accuracy: 0.0070\n",
      "Epoch 171/200\n",
      "500/500 [==============================] - 1s 2ms/step - loss: 0.0012 - mse: 0.0012 - accuracy: 0.0058\n",
      "Epoch 172/200\n",
      "500/500 [==============================] - 1s 2ms/step - loss: 0.0012 - mse: 0.0012 - accuracy: 0.0052\n",
      "Epoch 173/200\n",
      "500/500 [==============================] - 1s 2ms/step - loss: 0.0012 - mse: 0.0012 - accuracy: 0.0073\n",
      "Epoch 174/200\n",
      "500/500 [==============================] - 1s 2ms/step - loss: 0.0011 - mse: 0.0011 - accuracy: 0.0065\n",
      "Epoch 175/200\n",
      "500/500 [==============================] - 1s 2ms/step - loss: 0.0011 - mse: 0.0011 - accuracy: 0.0062\n",
      "Epoch 176/200\n",
      "500/500 [==============================] - 1s 2ms/step - loss: 0.0011 - mse: 0.0011 - accuracy: 0.0057\n",
      "Epoch 177/200\n",
      "500/500 [==============================] - 1s 2ms/step - loss: 0.0012 - mse: 0.0012 - accuracy: 0.0059\n",
      "Epoch 178/200\n",
      "500/500 [==============================] - 1s 2ms/step - loss: 0.0012 - mse: 0.0012 - accuracy: 0.0069\n",
      "Epoch 179/200\n",
      "500/500 [==============================] - 1s 2ms/step - loss: 0.0011 - mse: 0.0011 - accuracy: 0.0064\n",
      "Epoch 180/200\n",
      "500/500 [==============================] - 1s 2ms/step - loss: 0.0012 - mse: 0.0012 - accuracy: 0.0072\n",
      "Epoch 181/200\n",
      "500/500 [==============================] - 1s 2ms/step - loss: 0.0012 - mse: 0.0012 - accuracy: 0.0055\n",
      "Epoch 182/200\n",
      "500/500 [==============================] - 1s 2ms/step - loss: 0.0012 - mse: 0.0012 - accuracy: 0.0057\n",
      "Epoch 183/200\n",
      "500/500 [==============================] - 1s 2ms/step - loss: 0.0012 - mse: 0.0012 - accuracy: 0.0073\n",
      "Epoch 184/200\n",
      "500/500 [==============================] - 1s 2ms/step - loss: 0.0012 - mse: 0.0012 - accuracy: 0.0057\n",
      "Epoch 185/200\n",
      "500/500 [==============================] - 1s 2ms/step - loss: 0.0011 - mse: 0.0011 - accuracy: 0.0067\n",
      "Epoch 186/200\n",
      "500/500 [==============================] - 1s 2ms/step - loss: 0.0012 - mse: 0.0012 - accuracy: 0.0062\n",
      "Epoch 187/200\n",
      "500/500 [==============================] - 1s 2ms/step - loss: 0.0012 - mse: 0.0012 - accuracy: 0.0061\n",
      "Epoch 188/200\n",
      "500/500 [==============================] - 1s 2ms/step - loss: 0.0012 - mse: 0.0012 - accuracy: 0.0062\n",
      "Epoch 189/200\n",
      "500/500 [==============================] - 1s 2ms/step - loss: 0.0011 - mse: 0.0011 - accuracy: 0.0062\n",
      "Epoch 190/200\n",
      "500/500 [==============================] - 1s 2ms/step - loss: 0.0012 - mse: 0.0012 - accuracy: 0.0054\n",
      "Epoch 191/200\n",
      "500/500 [==============================] - 1s 2ms/step - loss: 0.0012 - mse: 0.0012 - accuracy: 0.0060\n",
      "Epoch 192/200\n",
      "500/500 [==============================] - 1s 2ms/step - loss: 0.0011 - mse: 0.0011 - accuracy: 0.0076\n",
      "Epoch 193/200\n",
      "500/500 [==============================] - 1s 2ms/step - loss: 0.0011 - mse: 0.0011 - accuracy: 0.0062\n",
      "Epoch 194/200\n",
      "500/500 [==============================] - 1s 2ms/step - loss: 0.0012 - mse: 0.0012 - accuracy: 0.0056\n",
      "Epoch 195/200\n",
      "500/500 [==============================] - 1s 2ms/step - loss: 0.0011 - mse: 0.0011 - accuracy: 0.0060\n",
      "Epoch 196/200\n",
      "500/500 [==============================] - 1s 2ms/step - loss: 0.0011 - mse: 0.0011 - accuracy: 0.0064\n",
      "Epoch 197/200\n",
      "500/500 [==============================] - 1s 2ms/step - loss: 0.0011 - mse: 0.0011 - accuracy: 0.0059\n",
      "Epoch 198/200\n"
     ]
    },
    {
     "name": "stdout",
     "output_type": "stream",
     "text": [
      "500/500 [==============================] - 1s 2ms/step - loss: 0.0011 - mse: 0.0011 - accuracy: 0.0066\n",
      "Epoch 199/200\n",
      "500/500 [==============================] - 1s 2ms/step - loss: 0.0011 - mse: 0.0011 - accuracy: 0.0061\n",
      "Epoch 200/200\n",
      "500/500 [==============================] - 1s 2ms/step - loss: 0.0011 - mse: 0.0011 - accuracy: 0.0060\n"
     ]
    },
    {
     "data": {
      "text/plain": [
       "<tensorflow.python.keras.callbacks.History at 0x1e42cdc4b80>"
      ]
     },
     "execution_count": 34,
     "metadata": {},
     "output_type": "execute_result"
    }
   ],
   "source": [
    "\n",
    "TARS.fit(x_train, y_train, batch_size=32, epochs=200)"
   ]
  },
  {
   "cell_type": "markdown",
   "metadata": {
    "id": "kBK4fpwiAtld"
   },
   "source": [
    "\n",
    "\n",
    "*   List item\n",
    "*   List item\n",
    "\n"
   ]
  },
  {
   "cell_type": "code",
   "execution_count": 35,
   "metadata": {
    "id": "Row41BSu-QYP"
   },
   "outputs": [],
   "source": [
    "TARS.save(\"weights.h5\")"
   ]
  },
  {
   "cell_type": "code",
   "execution_count": 36,
   "metadata": {
    "colab": {
     "base_uri": "https://localhost:8080/"
    },
    "executionInfo": {
     "elapsed": 640,
     "status": "ok",
     "timestamp": 1612727331102,
     "user": {
      "displayName": "Nihal Gulati",
      "photoUrl": "https://lh3.googleusercontent.com/a-/AOh14GgXDtWgZ8W0h8IRVQ5-p-nFZu-Z6P-NZa2s6Z9F2w=s64",
      "userId": "09492739079644876153"
     },
     "user_tz": 480
    },
    "id": "9gwJqFRzCPpI",
    "outputId": "2964bf38-0e77-482c-f48e-779eeb737032"
   },
   "outputs": [
    {
     "name": "stdout",
     "output_type": "stream",
     "text": [
      "125/125 [==============================] - 0s 1ms/step - loss: 0.0017 - mse: 0.0017 - accuracy: 0.0052\n"
     ]
    },
    {
     "data": {
      "text/plain": [
       "[0.0017402931116521358, 0.0017402931116521358, 0.005249999929219484]"
      ]
     },
     "execution_count": 36,
     "metadata": {},
     "output_type": "execute_result"
    }
   ],
   "source": [
    "TARS.evaluate(x_test, y_test)"
   ]
  },
  {
   "cell_type": "code",
   "execution_count": 37,
   "metadata": {
    "colab": {
     "base_uri": "https://localhost:8080/"
    },
    "executionInfo": {
     "elapsed": 314,
     "status": "ok",
     "timestamp": 1612727906739,
     "user": {
      "displayName": "Nihal Gulati",
      "photoUrl": "https://lh3.googleusercontent.com/a-/AOh14GgXDtWgZ8W0h8IRVQ5-p-nFZu-Z6P-NZa2s6Z9F2w=s64",
      "userId": "09492739079644876153"
     },
     "user_tz": 480
    },
    "id": "cZN3zyl_ELTo",
    "outputId": "c90d5e99-c8d5-49c2-9efe-438124e80fdb"
   },
   "outputs": [
    {
     "data": {
      "text/plain": [
       "array([[0.        , 1.        , 0.        , 0.        , 0.        ,\n",
       "        0.        , 0.        , 0.        , 0.        , 0.        ,\n",
       "        0.        , 0.        , 0.        , 0.        , 1.        ,\n",
       "        0.        , 0.        , 0.        , 0.        , 0.        ,\n",
       "        0.        , 0.        , 0.        , 1.        , 0.        ,\n",
       "        0.        , 1.        , 0.58333333, 0.29268293]])"
      ]
     },
     "execution_count": 37,
     "metadata": {},
     "output_type": "execute_result"
    }
   ],
   "source": [
    "x_test[0:1]"
   ]
  },
  {
   "cell_type": "code",
   "execution_count": 38,
   "metadata": {},
   "outputs": [],
   "source": [
    "# give me a student and lets try some accomedation\n",
    "# take in a normal row input\n",
    "# changing accomedation\n",
    "# class size \n",
    "# teacher_cre"
   ]
  },
  {
   "cell_type": "code",
   "execution_count": null,
   "metadata": {
    "colab": {
     "base_uri": "https://localhost:8080/"
    },
    "executionInfo": {
     "elapsed": 430,
     "status": "ok",
     "timestamp": 1612728066604,
     "user": {
      "displayName": "Nihal Gulati",
      "photoUrl": "https://lh3.googleusercontent.com/a-/AOh14GgXDtWgZ8W0h8IRVQ5-p-nFZu-Z6P-NZa2s6Z9F2w=s64",
      "userId": "09492739079644876153"
     },
     "user_tz": 480
    },
    "id": "CJy453F1CoGJ",
    "outputId": "f1017faa-218f-46dd-988e-b5f28e5d3184",
    "scrolled": true
   },
   "outputs": [],
   "source": [
    "scalarY.inverse_transform(TARS.predict(np.array([[0,0,0,1,1,0.5,0.5]])))"
   ]
  },
  {
   "cell_type": "code",
   "execution_count": null,
   "metadata": {
    "colab": {
     "base_uri": "https://localhost:8080/"
    },
    "executionInfo": {
     "elapsed": 462,
     "status": "ok",
     "timestamp": 1612727957451,
     "user": {
      "displayName": "Nihal Gulati",
      "photoUrl": "https://lh3.googleusercontent.com/a-/AOh14GgXDtWgZ8W0h8IRVQ5-p-nFZu-Z6P-NZa2s6Z9F2w=s64",
      "userId": "09492739079644876153"
     },
     "user_tz": 480
    },
    "id": "R8-hNALxE5vc",
    "outputId": "290c52d4-5400-438f-e0b4-2cefaa551feb"
   },
   "outputs": [],
   "source": [
    "TARS.predict(np.array([[0,1,0,0,1,0.5,0.5]]))"
   ]
  },
  {
   "cell_type": "markdown",
   "metadata": {
    "id": "WiwIKmEfFtUm"
   },
   "source": [
    "# Create the GridSearch estimator along with a parameter object containing the values to adjust\n",
    "from sklearn.model_selection import GridSearchCV\n",
    "param_grid = {'C': [1, 5, 10, 50],\n",
    "              'gamma': [0.0001, 0.0005, 0.001, 0.005]}\n",
    "grid = GridSearchCV(model, param_grid, verbose=3)\n",
    "Mohan to Everyone (12:01 PM)\n",
    "grid.fit(X_train, y_train)\n",
    "print(grid.best_params_)"
   ]
  },
  {
   "cell_type": "code",
   "execution_count": 40,
   "metadata": {},
   "outputs": [],
   "source": [
    "TARS = tf.keras.models.Sequential()\n",
    "TARS.add(tf.keras.layers.Dense(input_dim = 29 ,units = 50, activation='relu'))\n",
    "TARS.add(tf.keras.layers.Dense(units=30, activation='relu'))\n",
    "TARS.add(tf.keras.layers.Dense(units=50, activation='relu'))\n",
    "TARS.add(tf.keras.layers.Dense(units=1, activation='linear'))\n",
    "TARS.compile(optimizer=\"adam\", loss=\"mean_squared_error\", metrics=['mse', 'accuracy'])\n",
    "TARS.load_weights('weights.h5')"
   ]
  },
  {
   "cell_type": "code",
   "execution_count": 62,
   "metadata": {
    "colab": {
     "base_uri": "https://localhost:8080/"
    },
    "executionInfo": {
     "elapsed": 516,
     "status": "ok",
     "timestamp": 1612728018254,
     "user": {
      "displayName": "Nihal Gulati",
      "photoUrl": "https://lh3.googleusercontent.com/a-/AOh14GgXDtWgZ8W0h8IRVQ5-p-nFZu-Z6P-NZa2s6Z9F2w=s64",
      "userId": "09492739079644876153"
     },
     "user_tz": 480
    },
    "id": "UnL3POyQFClA",
    "outputId": "499eccb0-18be-49e4-c1a1-b0b8a866842f"
   },
   "outputs": [
    {
     "name": "stdout",
     "output_type": "stream",
     "text": [
      "Isolated Workstation is the predicted best accomadation.\n"
     ]
    }
   ],
   "source": [
    "#predicting which accommadation is most effective given a student\n",
    "#input: gender, age, teacher_cred, class size, disability\n",
    "sample_student = np.array([[\"Female\", \"15\", \"Bachelor's\", \"25\", \"ADHD\"]])\n",
    "\n",
    "maxdif = -4\n",
    "bestaccom = \"\"\n",
    "accomodation_list = [\"Materials in Braille\", \"Text to Speech Devices\", \"Breakout Corner\", \"Use of Toy in Class\", \"Bigger Print Materials\", \"Isolated Workstation\", \"Tutoring Sessions\", \"Book Buddy\", \"Use of Calculator on Tests\", \"AAC Devices\", \"Special Education Classroom\"]\n",
    "for i in accomodation_list:\n",
    "    temparray= [[]] \n",
    "    temparray[0] = np.append(sample_student, i)\n",
    "    temparray = np.array(temparray)\n",
    "    temparray[:, 0] = le.transform(temparray[:,0])\n",
    "    temparray = np.array(ct.transform(temparray))\n",
    "    temparray = np.array(ct2.transform(temparray))\n",
    "    temparray = np.array(ct3.transform(temparray))\n",
    "    temparray = scalarX.transform(temparray)\n",
    "    if (scalarY.inverse_transform(TARS.predict(np.array(temparray))) > maxdif):\n",
    "        maxdif = scalarY.inverse_transform(TARS.predict(np.array(temparray)))\n",
    "        bestaccom = i\n",
    "print(bestaccom + \" is the predicted best accomadation.\")"
   ]
  },
  {
   "cell_type": "code",
   "execution_count": null,
   "metadata": {},
   "outputs": [],
   "source": [
    "\n",
    "#TARS = tf.keras.models.load_model('weights.h5')\n"
   ]
  },
  {
   "cell_type": "code",
   "execution_count": null,
   "metadata": {},
   "outputs": [],
   "source": [
    "from sklearn.model_selection import GridSearchCV\n",
    "param_grid = {'C': [1, 5, 10, 50], 'gamma': [0.0001, 0.0005, 0.001, 0.005]} \n",
    "grid = GridSearchCV(TARS, param_grid, verbose=3)"
   ]
  },
  {
   "cell_type": "code",
   "execution_count": null,
   "metadata": {},
   "outputs": [],
   "source": [
    "# TARS.layers[1].get_weights()"
   ]
  },
  {
   "cell_type": "markdown",
   "metadata": {
    "id": "SX_nyytsF7e1"
   },
   "source": [
    "GridSearch\n",
    "Figure out which columns are the most impactful\n",
    "transform outputs back\n",
    "fix environment"
   ]
  },
  {
   "cell_type": "code",
   "execution_count": null,
   "metadata": {},
   "outputs": [],
   "source": [
    "# from keras.wrappers.scikit_learn import KerasClassifier, KerasRegressor\n",
    "# import eli5\n",
    "# from eli5.sklearn import PermutationImportance"
   ]
  },
  {
   "cell_type": "code",
   "execution_count": null,
   "metadata": {},
   "outputs": [],
   "source": [
    "# my_model = KerasRegressor(build, epochs=100, batch_size=200)    \n",
    "# my_model.fit(x,y)"
   ]
  },
  {
   "cell_type": "code",
   "execution_count": null,
   "metadata": {},
   "outputs": [],
   "source": [
    "# from sklearn.model_selection import KFold\n",
    "# from sklearn.model_selection import cross_val_score\n",
    "\n",
    "# kfold = KFold(n_splits=10)\n",
    "# results = cross_val_score(my_model, x, y, cv=kfold)\n"
   ]
  },
  {
   "cell_type": "code",
   "execution_count": null,
   "metadata": {},
   "outputs": [],
   "source": [
    "# TARS"
   ]
  },
  {
   "cell_type": "code",
   "execution_count": null,
   "metadata": {},
   "outputs": [],
   "source": [
    "# import shap"
   ]
  },
  {
   "cell_type": "code",
   "execution_count": null,
   "metadata": {},
   "outputs": [],
   "source": [
    "# shap.initjs()"
   ]
  },
  {
   "cell_type": "code",
   "execution_count": null,
   "metadata": {
    "scrolled": true
   },
   "outputs": [],
   "source": [
    "# explainer = shap.TreeExplainer(TARS)\n",
    "# shap_values = explainer.shap_values(x)"
   ]
  },
  {
   "cell_type": "code",
   "execution_count": null,
   "metadata": {},
   "outputs": [],
   "source": [
    "# # permutation feature importance with knn for classification\n",
    "# from sklearn.datasets import make_classification\n",
    "# from sklearn.neighbors import KNeighborsClassifier\n",
    "# from sklearn.inspection import permutation_importance\n",
    "# from matplotlib import pyplot\n",
    "# # define dataset\n",
    "# # define the model\n",
    "# # fit the model\n",
    "# # perform permutation importance\n",
    "# results = permutation_importance(TARS, x, y, scoring='accuracy')\n",
    "# # get importance\n",
    "# importance = results.importances_mean\n",
    "# # summarize feature importance\n",
    "# for i,v in enumerate(importance):\n",
    "# \tprint('Feature: %0d, Score: %.5f' % (i,v))\n",
    "# # plot feature importance\n",
    "# pyplot.bar([x for x in range(len(importance))], importance)\n",
    "# pyplot.show()\n",
    "\n"
   ]
  },
  {
   "cell_type": "code",
   "execution_count": null,
   "metadata": {},
   "outputs": [],
   "source": []
  }
 ],
 "metadata": {
  "colab": {
   "collapsed_sections": [],
   "name": "Compiler.ipynb",
   "provenance": []
  },
  "kernelspec": {
   "display_name": "Python 3",
   "language": "python",
   "name": "python3"
  },
  "language_info": {
   "codemirror_mode": {
    "name": "ipython",
    "version": 3
   },
   "file_extension": ".py",
   "mimetype": "text/x-python",
   "name": "python",
   "nbconvert_exporter": "python",
   "pygments_lexer": "ipython3",
   "version": "3.8.5"
  }
 },
 "nbformat": 4,
 "nbformat_minor": 1
}
